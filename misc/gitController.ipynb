{
 "cells": [
  {
   "cell_type": "code",
   "execution_count": 5,
   "metadata": {},
   "outputs": [
    {
     "name": "stdout",
     "output_type": "stream",
     "text": [
      "On branch master\n",
      "Your branch is up-to-date with 'origin/master'.\n",
      "\n",
      "Changes not staged for commit:\n",
      "  (use \"git add <file>...\" to update what will be committed)\n",
      "  (use \"git checkout -- <file>...\" to discard changes in working directory)\n",
      "\n",
      "\t\u001b[31mmodified:   .ipynb_checkpoints/setup-checkpoint.ipynb\u001b[m\n",
      "\t\u001b[31mmodified:   container/Dockerfile\u001b[m\n",
      "\t\u001b[31mmodified:   container/algorithms/predictor.py\u001b[m\n",
      "\t\u001b[31mmodified:   container/algorithms/train\u001b[m\n",
      "\t\u001b[31mmodified:   setup.ipynb\u001b[m\n",
      "\n",
      "Untracked files:\n",
      "  (use \"git add <file>...\" to include in what will be committed)\n",
      "\n",
      "\t\u001b[31m.ipynb_checkpoints/gitController-checkpoint.ipynb\u001b[m\n",
      "\t\u001b[31mcontainer/.ipynb_checkpoints/\u001b[m\n",
      "\t\u001b[31mcontainer/algorithms/.ipynb_checkpoints/\u001b[m\n",
      "\t\u001b[31mcontainer/get-pip.py\u001b[m\n",
      "\t\u001b[31mcontainer/lstm-model.pkl\u001b[m\n",
      "\t\u001b[31mcontainer/model.tar.gz\u001b[m\n",
      "\t\u001b[31mdf0.csv\u001b[m\n",
      "\t\u001b[31mgitController.ipynb\u001b[m\n",
      "\t\u001b[31mhyperParameters.json\u001b[m\n",
      "\t\u001b[31mopt/\u001b[m\n",
      "\n",
      "no changes added to commit (use \"git add\" and/or \"git commit -a\")\n"
     ]
    }
   ],
   "source": [
    "! git status"
   ]
  },
  {
   "cell_type": "code",
   "execution_count": 3,
   "metadata": {},
   "outputs": [
    {
     "name": "stdout",
     "output_type": "stream",
     "text": [
      "remote: Enumerating objects: 13, done.\u001b[K\n",
      "remote: Counting objects: 100% (13/13), done.\u001b[K\n",
      "remote: Compressing objects: 100% (8/8), done.\u001b[K\n",
      "remote: Total 9 (delta 1), reused 9 (delta 1), pack-reused 0\u001b[K\n",
      "Unpacking objects: 100% (9/9), done.\n",
      "From https://github.com/bonaventura-p/race-vr\n",
      "   31744db..e9c239a  master     -> origin/master\n",
      "Updating 31744db..e9c239a\n",
      "Fast-forward\n",
      " container/Dockerfile                    |  25 \u001b[32m++++\u001b[m\u001b[31m--\u001b[m\n",
      " container/algorithms/nginx.conf         |  39 \u001b[32m++++++++++\u001b[m\n",
      " container/algorithms/predictor.py       |  83 \u001b[32m++++++++++++++++++++\u001b[m\n",
      " container/algorithms/serve              |  71 \u001b[32m+++++++++++++++++\u001b[m\n",
      " container/algorithms/wsgi.py            |   7 \u001b[32m++\u001b[m\n",
      " old/Dockerfile                          |  26 \u001b[32m+++++++\u001b[m\n",
      " old/algorithms/train                    | 132 \u001b[32m++++++++++++++++++++++++++++++++\u001b[m\n",
      " old/build_and_push.sh                   |  53 \u001b[32m+++++++++++++\u001b[m\n",
      " {container => old}/hyperParameters.json |   0\n",
      " old/requirements.txt                    |  12 \u001b[32m+++\u001b[m\n",
      " 10 files changed, 440 insertions(+), 8 deletions(-)\n",
      " create mode 100644 container/algorithms/nginx.conf\n",
      " create mode 100644 container/algorithms/predictor.py\n",
      " create mode 100755 container/algorithms/serve\n",
      " create mode 100644 container/algorithms/wsgi.py\n",
      " create mode 100644 old/Dockerfile\n",
      " create mode 100644 old/algorithms/train\n",
      " create mode 100644 old/build_and_push.sh\n",
      " rename {container => old}/hyperParameters.json (100%)\n",
      " create mode 100644 old/requirements.txt\n"
     ]
    }
   ],
   "source": [
    "! git pull"
   ]
  },
  {
   "cell_type": "code",
   "execution_count": 4,
   "metadata": {},
   "outputs": [
    {
     "name": "stdout",
     "output_type": "stream",
     "text": [
      "On branch master\n",
      "Your branch is up-to-date with 'origin/master'.\n",
      "\n",
      "Changes not staged for commit:\n",
      "  (use \"git add <file>...\" to update what will be committed)\n",
      "  (use \"git checkout -- <file>...\" to discard changes in working directory)\n",
      "\n",
      "\t\u001b[31mmodified:   .ipynb_checkpoints/setup-checkpoint.ipynb\u001b[m\n",
      "\t\u001b[31mmodified:   setup.ipynb\u001b[m\n",
      "\n",
      "Untracked files:\n",
      "  (use \"git add <file>...\" to include in what will be committed)\n",
      "\n",
      "\t\u001b[31m.ipynb_checkpoints/Untitled-checkpoint.ipynb\u001b[m\n",
      "\t\u001b[31mUntitled.ipynb\u001b[m\n",
      "\t\u001b[31mcontainer/.ipynb_checkpoints/\u001b[m\n",
      "\t\u001b[31mcontainer/get-pip.py\u001b[m\n",
      "\n",
      "no changes added to commit (use \"git add\" and/or \"git commit -a\")\n"
     ]
    }
   ],
   "source": [
    "! git status"
   ]
  },
  {
   "cell_type": "code",
   "execution_count": 6,
   "metadata": {},
   "outputs": [],
   "source": [
    "! git add ."
   ]
  },
  {
   "cell_type": "code",
   "execution_count": 7,
   "metadata": {},
   "outputs": [
    {
     "name": "stdout",
     "output_type": "stream",
     "text": [
      "[master 68d7951] adding endpoint\n",
      " Committer: EC2 Default User <ec2-user@ip-172-16-54-26.ec2.internal>\n",
      "Your name and email address were configured automatically based\n",
      "on your username and hostname. Please check that they are accurate.\n",
      "You can suppress this message by setting them explicitly:\n",
      "\n",
      "    git config --global user.name \"Your Name\"\n",
      "    git config --global user.email you@example.com\n",
      "\n",
      "After doing this, you may fix the identity used for this commit with:\n",
      "\n",
      "    git commit --amend --reset-author\n",
      "\n",
      " 19 files changed, 116692 insertions(+), 379 deletions(-)\n",
      " create mode 100644 .ipynb_checkpoints/gitController-checkpoint.ipynb\n",
      " copy setup.ipynb => .ipynb_checkpoints/setup-checkpoint.ipynb (98%)\n",
      " create mode 100644 container/.ipynb_checkpoints/Dockerfile-checkpoint\n",
      " create mode 100644 container/.ipynb_checkpoints/build_and_push-checkpoint.sh\n",
      " create mode 100644 container/algorithms/.ipynb_checkpoints/predictor-checkpoint.py\n",
      " create mode 100755 container/algorithms/.ipynb_checkpoints/serve-checkpoint\n",
      " create mode 100755 container/algorithms/.ipynb_checkpoints/train-checkpoint\n",
      " mode change 100644 => 100755 container/algorithms/train\n",
      " create mode 100644 container/get-pip.py\n",
      " create mode 100644 container/lstm-model.pkl\n",
      " create mode 100644 container/model.tar.gz\n",
      " create mode 100644 df0.csv\n",
      " create mode 100644 gitController.ipynb\n",
      " create mode 100644 hyperParameters.json\n",
      " create mode 100644 opt/ml/model/lstm-model.pkl\n",
      " create mode 100644 opt/ml/model/model.tar.gz\n",
      " rewrite setup.ipynb (90%)\n"
     ]
    }
   ],
   "source": [
    "! git commit -m \"adding endpoint\""
   ]
  },
  {
   "cell_type": "code",
   "execution_count": 12,
   "metadata": {},
   "outputs": [],
   "source": [
    "! git config --global user.name \"bonaventura-p\"\n",
    "! git config --global user.email \"bonaventurapacileo@gmail.com\"\n"
   ]
  },
  {
   "cell_type": "code",
   "execution_count": null,
   "metadata": {},
   "outputs": [
    {
     "name": "stdout",
     "output_type": "stream",
     "text": [
      "Username for 'https://github.com/bonaventura-p/race-vr': "
     ]
    }
   ],
   "source": [
    "! git push origin master"
   ]
  },
  {
   "cell_type": "code",
   "execution_count": null,
   "metadata": {},
   "outputs": [],
   "source": []
  },
  {
   "cell_type": "code",
   "execution_count": null,
   "metadata": {},
   "outputs": [],
   "source": []
  },
  {
   "cell_type": "raw",
   "metadata": {},
   "source": []
  },
  {
   "cell_type": "code",
   "execution_count": null,
   "metadata": {},
   "outputs": [],
   "source": []
  }
 ],
 "metadata": {
  "kernelspec": {
   "display_name": "conda_python3",
   "language": "python",
   "name": "conda_python3"
  },
  "language_info": {
   "codemirror_mode": {
    "name": "ipython",
    "version": 3
   },
   "file_extension": ".py",
   "mimetype": "text/x-python",
   "name": "python",
   "nbconvert_exporter": "python",
   "pygments_lexer": "ipython3",
   "version": "3.6.5"
  }
 },
 "nbformat": 4,
 "nbformat_minor": 4
}
